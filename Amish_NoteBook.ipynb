{
 "cells": [
  {
   "cell_type": "markdown",
   "metadata": {},
   "source": [
    "# My Jupyter Notebook on IBM Watson Studio"
   ]
  },
  {
   "cell_type": "markdown",
   "metadata": {},
   "source": [
    "**Name: Amish Patel**<br>\n",
    "Current Occupation: Senior Research Scientist\n",
    "Desired Occupation: Data Scientist"
   ]
  },
  {
   "cell_type": "markdown",
   "metadata": {},
   "source": [
    "*In my current occupational field (cancer biology research), more complex big data is emerging from rapidly evolving genomics capabilities, which requires AI/ML to analyze and extract insights that aid in thearpy development for cancer patients. I have some brief but rewarding experiences in using programming languages (R and Python) in my current job. I would love to apply my research, analytical, and communication skills towards a  data scientist role within the biotech/pharma industry.*"
   ]
  },
  {
   "cell_type": "markdown",
   "metadata": {},
   "source": [
    "### Calculate the Sum of Numbers Within the Range of 1 to 5"
   ]
  },
  {
   "cell_type": "code",
   "execution_count": 3,
   "metadata": {},
   "outputs": [
    {
     "data": {
      "text/plain": [
       "15"
      ]
     },
     "execution_count": 3,
     "metadata": {},
     "output_type": "execute_result"
    }
   ],
   "source": [
    "1+2+3+4+5"
   ]
  },
  {
   "cell_type": "markdown",
   "metadata": {},
   "source": [
    "**Bulleted List of Bioconductor Packages**<br>\n",
    "- methylKit\n",
    "- annotatr\n",
    "- edgeR\n",
    "***\n",
    "**Numbered List of the Central Dogma in Molecular Biology**<br>\n",
    "1. DNA\n",
    "2. RNA\n",
    "3. protein<br>\n",
    "***\n",
    "**Blocked Quote From Albert Einstein**<br>\n",
    "> “If We Knew What it Was We Were Doing, it Would Not be Called Research, Would it?"
   ]
  }
 ],
 "metadata": {
  "kernelspec": {
   "display_name": "Python",
   "language": "python",
   "name": "conda-env-python-py"
  },
  "language_info": {
   "codemirror_mode": {
    "name": "ipython",
    "version": 3
   },
   "file_extension": ".py",
   "mimetype": "text/x-python",
   "name": "python",
   "nbconvert_exporter": "python",
   "pygments_lexer": "ipython3",
   "version": "3.7.12"
  }
 },
 "nbformat": 4,
 "nbformat_minor": 4
}
